{
  "nbformat": 4,
  "nbformat_minor": 0,
  "metadata": {
    "colab": {
      "provenance": []
    },
    "kernelspec": {
      "name": "python3",
      "display_name": "Python 3"
    },
    "language_info": {
      "name": "python"
    }
  },
  "cells": [
    {
      "cell_type": "code",
      "execution_count": null,
      "metadata": {
        "id": "ArJMMCx_ryDm"
      },
      "outputs": [],
      "source": [
        "# import necessary libraries and reload the data to continue analysis\n",
        "import pandas as pd\n",
        "\n",
        "# Load the data\n",
        "file_path = '/content/sumupCaseStudy11.csv'\n",
        "data = pd.read_csv(file_path)\n",
        "\n",
        "# Convert 'CREATED_AT' to datetime\n",
        "data['CREATED_AT'] = pd.to_datetime(data['CREATED_AT'])\n",
        "\n",
        "# Sort data by MERCHANT_ID, REASON, and CREATED_AT to process resolution based on 7-day criteria\n",
        "data = data.sort_values(by=['MERCHANT_ID', 'REASON', 'CREATED_AT'])\n",
        "\n",
        "# Calculate the difference in days between consecutive interactions within each merchant-topic group\n",
        "data['TIME_DIFF'] = data.groupby(['MERCHANT_ID', 'REASON'])['CREATED_AT'].diff().dt.days\n",
        "\n",
        "# Mark cumulative 7-day windows by grouping interactions as resolved if they occur within 7 days\n",
        "data['FOLLOW_UP_WITHIN_7_DAYS'] = data['TIME_DIFF'] <= 7\n",
        "\n",
        "# Filter rows with agent companies\n",
        "data_with_agent = data.dropna(subset=['AGENT_COMPANY'])\n",
        "\n",
        "# Group by agent and merchant-topic pairs to count cases that meet resolution criteria (sequences within 7 days)\n",
        "resolved_cases_by_agent = data_with_agent[data_with_agent['FOLLOW_UP_WITHIN_7_DAYS']].groupby(\n",
        "    ['AGENT_COMPANY', 'MERCHANT_ID', 'REASON']).size().reset_index(name='RESOLVED_COUNT')\n",
        "\n",
        "# Calculate performance metrics (average handling time, resolution rate) for each agent company\n",
        "agent_performance = data_with_agent.groupby('AGENT_COMPANY').agg(\n",
        "    AVG_HANDLING_TIME=('TOTAL_HANDLING_TIME_SECONDS', 'mean'), # Average handling time\n",
        "    RESOLVED_CASES=('STATUS', lambda x: (x == 'Resolved').sum()),  # Resolved cases count\n",
        "    TOTAL_CASES=('STATUS', 'count')  # Total cases handled\n",
        ").reset_index()\n",
        "\n",
        "# Calculate resolution rate as percentage of resolved cases\n",
        "agent_performance['RESOLUTION_RATE'] = (agent_performance['RESOLVED_CASES'] / agent_performance['TOTAL_CASES']) * 100\n",
        "\n",
        "# Sort by resolution rate and handling time for insight on best-performing agents\n",
        "agent_performance_sorted = agent_performance.sort_values(by=['RESOLUTION_RATE', 'AVG_HANDLING_TIME'], ascending=[False, True])\n",
        "agent_performance_sorted.head(10)\n"
      ]
    },
    {
      "cell_type": "code",
      "source": [
        "# Given data for monthly investment and working hours\n",
        "monthly_investment = 0.5e6  # €0.5M\n",
        "hours_per_week = 40  # Each agent works 40 hours per week\n",
        "weeks_per_month = 4  # Approximately 4 weeks in a month\n",
        "total_hours_per_month = hours_per_week * weeks_per_month\n",
        "\n",
        "# Calculate hourly cost per agent\n",
        "hourly_cost_per_agent = monthly_investment / total_hours_per_month\n",
        "\n",
        "# Calculate cost per interaction based on channel type (considering concurrency for chat and exclusivity for calls)\n",
        "data_with_agent['INTERACTION_COST'] = data_with_agent.apply(\n",
        "    lambda row: hourly_cost_per_agent * (row['TOTAL_HANDLING_TIME_SECONDS'] / 3600) / (3 if row['CHANNEL'] == 'chat' else 1),\n",
        "    axis=1\n",
        ")\n",
        "\n",
        "# Sum up costs by channel to determine the overall spending per channel\n",
        "channel_cost_summary = data_with_agent.groupby('CHANNEL')['INTERACTION_COST'].sum().reset_index()\n",
        "\n",
        "# Display the total cost per channel\n",
        "channel_cost_summary.sort_values(by='INTERACTION_COST', ascending=False)\n"
      ],
      "metadata": {
        "id": "lVmuHFtxuRTa"
      },
      "execution_count": null,
      "outputs": []
    }
  ]
}